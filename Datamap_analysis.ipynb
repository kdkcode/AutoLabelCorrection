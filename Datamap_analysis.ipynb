{
  "nbformat": 4,
  "nbformat_minor": 0,
  "metadata": {
    "colab": {
      "provenance": []
    },
    "kernelspec": {
      "name": "python3",
      "display_name": "Python 3"
    },
    "language_info": {
      "name": "python"
    }
  },
  "cells": [
    {
      "cell_type": "code",
      "source": [
        "import pandas as pd\n",
        "import numpy as np\n",
        "import matplotlib.pyplot as plt\n",
        "import seaborn as sns\n",
        "\n",
        "from tqdm.notebook import tqdm\n",
        "from google.colab import drive\n",
        "import os\n",
        "import re\n",
        "import torch\n",
        "\n",
        "tqdm.pandas()"
      ],
      "metadata": {
        "id": "XvhuygDKIdH2"
      },
      "execution_count": null,
      "outputs": []
    },
    {
      "cell_type": "code",
      "source": [
        "drive.mount('/content/drive')\n",
        "os.chdir(\"/content/drive/MyDrive/Capstone_design/\")"
      ],
      "metadata": {
        "colab": {
          "base_uri": "https://localhost:8080/"
        },
        "id": "DpMCyYlKIeIo",
        "outputId": "659c9024-c2a3-4158-d86e-0de9fd8ff180"
      },
      "execution_count": null,
      "outputs": [
        {
          "output_type": "stream",
          "name": "stdout",
          "text": [
            "Mounted at /content/drive\n"
          ]
        }
      ]
    },
    {
      "cell_type": "markdown",
      "source": [
        "## Load Data"
      ],
      "metadata": {
        "id": "D-8R4H2ccosT"
      }
    },
    {
      "cell_type": "code",
      "source": [
        "train_df = pd.read_csv(\"SBIC.v2.agg.trn.csv\")\n",
        "val_df = pd.read_csv(\"SBIC.v2.agg.dev.csv\")\n",
        "test_df = pd.read_csv(\"SBIC.v2.agg.tst.csv\")"
      ],
      "metadata": {
        "id": "U-Z14znqVSqR"
      },
      "execution_count": null,
      "outputs": []
    },
    {
      "cell_type": "code",
      "source": [
        "train_dy_metrics = pd.read_csv(\"train_dy_metrics.csv\").drop(\"index\", axis=1)\n",
        "temp = train_dy_metrics.copy()"
      ],
      "metadata": {
        "id": "uA36pqU1WDKi"
      },
      "execution_count": null,
      "outputs": []
    },
    {
      "cell_type": "code",
      "source": [
        "temp = temp.sort_values(by=\"guid\")\n",
        "temp[\"offensiveYN\"] = train_df[\"offensiveYN\"].values\n",
        "temp[\"abs_offensiveYN\"] = abs(temp[\"offensiveYN\"]-0.5)"
      ],
      "metadata": {
        "id": "DDzmJyTfenEk"
      },
      "execution_count": null,
      "outputs": []
    },
    {
      "cell_type": "code",
      "source": [
        "n_samples = int(len(train_dy_metrics)/3)\n",
        "temp = temp.sort_values(by=[\"confidence\"],ascending=False)[:n_samples]\n",
        "temp"
      ],
      "metadata": {
        "colab": {
          "base_uri": "https://localhost:8080/",
          "height": 423
        },
        "id": "wwXSWbwienCu",
        "outputId": "96bf34b7-2961-4262-bf9c-fb2b6809d394"
      },
      "execution_count": null,
      "outputs": [
        {
          "output_type": "execute_result",
          "data": {
            "text/plain": [
              "        guid  threshold_closeness  confidence  variability  correctness  \\\n",
              "25806  33359             0.058641    0.937446     0.030329            4   \n",
              "32188  24117             0.064282    0.930950     0.024372            4   \n",
              "31938  13448             0.064705    0.930459     0.034707            4   \n",
              "32965    703             0.064917    0.930213     0.022128            4   \n",
              "31167  17792             0.064922    0.930207     0.025687            4   \n",
              "...      ...                  ...         ...          ...          ...   \n",
              "27397   2499             0.185139    0.754679     0.171717            3   \n",
              "29006   7549             0.185143    0.754671     0.176687            3   \n",
              "3498   32355             0.185149    0.754659     0.183933            3   \n",
              "28444   6334             0.185152    0.754653     0.036411            4   \n",
              "10307   8276             0.185156    0.754644     0.099424            4   \n",
              "\n",
              "       forgetfulness  offensiveYN  abs_offensiveYN  \n",
              "25806              0     0.000000         0.500000  \n",
              "32188              0     0.000000         0.500000  \n",
              "31938              0     0.000000         0.500000  \n",
              "32965              0     0.666667         0.166667  \n",
              "31167              0     0.000000         0.500000  \n",
              "...              ...          ...              ...  \n",
              "27397              0     0.000000         0.500000  \n",
              "29006              0     1.000000         0.500000  \n",
              "3498               0     0.333333         0.166667  \n",
              "28444              0     1.000000         0.500000  \n",
              "10307              0     0.000000         0.500000  \n",
              "\n",
              "[11808 rows x 8 columns]"
            ],
            "text/html": [
              "\n",
              "  <div id=\"df-6ff64012-fe8c-456c-a762-86e53b4d38b3\">\n",
              "    <div class=\"colab-df-container\">\n",
              "      <div>\n",
              "<style scoped>\n",
              "    .dataframe tbody tr th:only-of-type {\n",
              "        vertical-align: middle;\n",
              "    }\n",
              "\n",
              "    .dataframe tbody tr th {\n",
              "        vertical-align: top;\n",
              "    }\n",
              "\n",
              "    .dataframe thead th {\n",
              "        text-align: right;\n",
              "    }\n",
              "</style>\n",
              "<table border=\"1\" class=\"dataframe\">\n",
              "  <thead>\n",
              "    <tr style=\"text-align: right;\">\n",
              "      <th></th>\n",
              "      <th>guid</th>\n",
              "      <th>threshold_closeness</th>\n",
              "      <th>confidence</th>\n",
              "      <th>variability</th>\n",
              "      <th>correctness</th>\n",
              "      <th>forgetfulness</th>\n",
              "      <th>offensiveYN</th>\n",
              "      <th>abs_offensiveYN</th>\n",
              "    </tr>\n",
              "  </thead>\n",
              "  <tbody>\n",
              "    <tr>\n",
              "      <th>25806</th>\n",
              "      <td>33359</td>\n",
              "      <td>0.058641</td>\n",
              "      <td>0.937446</td>\n",
              "      <td>0.030329</td>\n",
              "      <td>4</td>\n",
              "      <td>0</td>\n",
              "      <td>0.000000</td>\n",
              "      <td>0.500000</td>\n",
              "    </tr>\n",
              "    <tr>\n",
              "      <th>32188</th>\n",
              "      <td>24117</td>\n",
              "      <td>0.064282</td>\n",
              "      <td>0.930950</td>\n",
              "      <td>0.024372</td>\n",
              "      <td>4</td>\n",
              "      <td>0</td>\n",
              "      <td>0.000000</td>\n",
              "      <td>0.500000</td>\n",
              "    </tr>\n",
              "    <tr>\n",
              "      <th>31938</th>\n",
              "      <td>13448</td>\n",
              "      <td>0.064705</td>\n",
              "      <td>0.930459</td>\n",
              "      <td>0.034707</td>\n",
              "      <td>4</td>\n",
              "      <td>0</td>\n",
              "      <td>0.000000</td>\n",
              "      <td>0.500000</td>\n",
              "    </tr>\n",
              "    <tr>\n",
              "      <th>32965</th>\n",
              "      <td>703</td>\n",
              "      <td>0.064917</td>\n",
              "      <td>0.930213</td>\n",
              "      <td>0.022128</td>\n",
              "      <td>4</td>\n",
              "      <td>0</td>\n",
              "      <td>0.666667</td>\n",
              "      <td>0.166667</td>\n",
              "    </tr>\n",
              "    <tr>\n",
              "      <th>31167</th>\n",
              "      <td>17792</td>\n",
              "      <td>0.064922</td>\n",
              "      <td>0.930207</td>\n",
              "      <td>0.025687</td>\n",
              "      <td>4</td>\n",
              "      <td>0</td>\n",
              "      <td>0.000000</td>\n",
              "      <td>0.500000</td>\n",
              "    </tr>\n",
              "    <tr>\n",
              "      <th>...</th>\n",
              "      <td>...</td>\n",
              "      <td>...</td>\n",
              "      <td>...</td>\n",
              "      <td>...</td>\n",
              "      <td>...</td>\n",
              "      <td>...</td>\n",
              "      <td>...</td>\n",
              "      <td>...</td>\n",
              "    </tr>\n",
              "    <tr>\n",
              "      <th>27397</th>\n",
              "      <td>2499</td>\n",
              "      <td>0.185139</td>\n",
              "      <td>0.754679</td>\n",
              "      <td>0.171717</td>\n",
              "      <td>3</td>\n",
              "      <td>0</td>\n",
              "      <td>0.000000</td>\n",
              "      <td>0.500000</td>\n",
              "    </tr>\n",
              "    <tr>\n",
              "      <th>29006</th>\n",
              "      <td>7549</td>\n",
              "      <td>0.185143</td>\n",
              "      <td>0.754671</td>\n",
              "      <td>0.176687</td>\n",
              "      <td>3</td>\n",
              "      <td>0</td>\n",
              "      <td>1.000000</td>\n",
              "      <td>0.500000</td>\n",
              "    </tr>\n",
              "    <tr>\n",
              "      <th>3498</th>\n",
              "      <td>32355</td>\n",
              "      <td>0.185149</td>\n",
              "      <td>0.754659</td>\n",
              "      <td>0.183933</td>\n",
              "      <td>3</td>\n",
              "      <td>0</td>\n",
              "      <td>0.333333</td>\n",
              "      <td>0.166667</td>\n",
              "    </tr>\n",
              "    <tr>\n",
              "      <th>28444</th>\n",
              "      <td>6334</td>\n",
              "      <td>0.185152</td>\n",
              "      <td>0.754653</td>\n",
              "      <td>0.036411</td>\n",
              "      <td>4</td>\n",
              "      <td>0</td>\n",
              "      <td>1.000000</td>\n",
              "      <td>0.500000</td>\n",
              "    </tr>\n",
              "    <tr>\n",
              "      <th>10307</th>\n",
              "      <td>8276</td>\n",
              "      <td>0.185156</td>\n",
              "      <td>0.754644</td>\n",
              "      <td>0.099424</td>\n",
              "      <td>4</td>\n",
              "      <td>0</td>\n",
              "      <td>0.000000</td>\n",
              "      <td>0.500000</td>\n",
              "    </tr>\n",
              "  </tbody>\n",
              "</table>\n",
              "<p>11808 rows × 8 columns</p>\n",
              "</div>\n",
              "      <button class=\"colab-df-convert\" onclick=\"convertToInteractive('df-6ff64012-fe8c-456c-a762-86e53b4d38b3')\"\n",
              "              title=\"Convert this dataframe to an interactive table.\"\n",
              "              style=\"display:none;\">\n",
              "        \n",
              "  <svg xmlns=\"http://www.w3.org/2000/svg\" height=\"24px\"viewBox=\"0 0 24 24\"\n",
              "       width=\"24px\">\n",
              "    <path d=\"M0 0h24v24H0V0z\" fill=\"none\"/>\n",
              "    <path d=\"M18.56 5.44l.94 2.06.94-2.06 2.06-.94-2.06-.94-.94-2.06-.94 2.06-2.06.94zm-11 1L8.5 8.5l.94-2.06 2.06-.94-2.06-.94L8.5 2.5l-.94 2.06-2.06.94zm10 10l.94 2.06.94-2.06 2.06-.94-2.06-.94-.94-2.06-.94 2.06-2.06.94z\"/><path d=\"M17.41 7.96l-1.37-1.37c-.4-.4-.92-.59-1.43-.59-.52 0-1.04.2-1.43.59L10.3 9.45l-7.72 7.72c-.78.78-.78 2.05 0 2.83L4 21.41c.39.39.9.59 1.41.59.51 0 1.02-.2 1.41-.59l7.78-7.78 2.81-2.81c.8-.78.8-2.07 0-2.86zM5.41 20L4 18.59l7.72-7.72 1.47 1.35L5.41 20z\"/>\n",
              "  </svg>\n",
              "      </button>\n",
              "      \n",
              "  <style>\n",
              "    .colab-df-container {\n",
              "      display:flex;\n",
              "      flex-wrap:wrap;\n",
              "      gap: 12px;\n",
              "    }\n",
              "\n",
              "    .colab-df-convert {\n",
              "      background-color: #E8F0FE;\n",
              "      border: none;\n",
              "      border-radius: 50%;\n",
              "      cursor: pointer;\n",
              "      display: none;\n",
              "      fill: #1967D2;\n",
              "      height: 32px;\n",
              "      padding: 0 0 0 0;\n",
              "      width: 32px;\n",
              "    }\n",
              "\n",
              "    .colab-df-convert:hover {\n",
              "      background-color: #E2EBFA;\n",
              "      box-shadow: 0px 1px 2px rgba(60, 64, 67, 0.3), 0px 1px 3px 1px rgba(60, 64, 67, 0.15);\n",
              "      fill: #174EA6;\n",
              "    }\n",
              "\n",
              "    [theme=dark] .colab-df-convert {\n",
              "      background-color: #3B4455;\n",
              "      fill: #D2E3FC;\n",
              "    }\n",
              "\n",
              "    [theme=dark] .colab-df-convert:hover {\n",
              "      background-color: #434B5C;\n",
              "      box-shadow: 0px 1px 3px 1px rgba(0, 0, 0, 0.15);\n",
              "      filter: drop-shadow(0px 1px 2px rgba(0, 0, 0, 0.3));\n",
              "      fill: #FFFFFF;\n",
              "    }\n",
              "  </style>\n",
              "\n",
              "      <script>\n",
              "        const buttonEl =\n",
              "          document.querySelector('#df-6ff64012-fe8c-456c-a762-86e53b4d38b3 button.colab-df-convert');\n",
              "        buttonEl.style.display =\n",
              "          google.colab.kernel.accessAllowed ? 'block' : 'none';\n",
              "\n",
              "        async function convertToInteractive(key) {\n",
              "          const element = document.querySelector('#df-6ff64012-fe8c-456c-a762-86e53b4d38b3');\n",
              "          const dataTable =\n",
              "            await google.colab.kernel.invokeFunction('convertToInteractive',\n",
              "                                                     [key], {});\n",
              "          if (!dataTable) return;\n",
              "\n",
              "          const docLinkHtml = 'Like what you see? Visit the ' +\n",
              "            '<a target=\"_blank\" href=https://colab.research.google.com/notebooks/data_table.ipynb>data table notebook</a>'\n",
              "            + ' to learn more about interactive tables.';\n",
              "          element.innerHTML = '';\n",
              "          dataTable['output_type'] = 'display_data';\n",
              "          await google.colab.output.renderOutput(dataTable, element);\n",
              "          const docLink = document.createElement('div');\n",
              "          docLink.innerHTML = docLinkHtml;\n",
              "          element.appendChild(docLink);\n",
              "        }\n",
              "      </script>\n",
              "    </div>\n",
              "  </div>\n",
              "  "
            ]
          },
          "metadata": {},
          "execution_count": 158
        }
      ]
    },
    {
      "cell_type": "code",
      "source": [
        "train_dy_metrics_off = train_dy_metrics.merge(train_df[\"offensiveYN\"], left_on=\"guid\", right_on=train_df[\"offensiveYN\"].index)\n",
        "train_dy_metrics_off[\"abs_offensiveYN\"] = train_dy_metrics_off[\"offensiveYN\"].apply(lambda x : abs(x-0.5))\n",
        "train_dy_metrics_off"
      ],
      "metadata": {
        "colab": {
          "base_uri": "https://localhost:8080/",
          "height": 423
        },
        "id": "oed6zm_NWJt1",
        "outputId": "a6080035-806c-4f28-91ce-18f205dd60de"
      },
      "execution_count": null,
      "outputs": [
        {
          "output_type": "execute_result",
          "data": {
            "text/plain": [
              "        guid  threshold_closeness  confidence  variability  correctness  \\\n",
              "0      22749             0.179411    0.765686     0.074966            4   \n",
              "1      12186             0.188648    0.252307     0.058964            0   \n",
              "2      19868             0.202609    0.282305     0.060212            0   \n",
              "3      30023             0.185901    0.753178     0.236622            3   \n",
              "4      33539             0.228693    0.645971     0.196670            3   \n",
              "...      ...                  ...         ...          ...          ...   \n",
              "35419  32637             0.241946    0.410256     0.160799            1   \n",
              "35420  21934             0.194674    0.735214     0.174907            3   \n",
              "35421  30634             0.111177    0.872589     0.030262            4   \n",
              "35422   5705             0.249376    0.524983     0.174246            3   \n",
              "35423   3410             0.244743    0.427494     0.207306            2   \n",
              "\n",
              "       forgetfulness  offensiveYN  abs_offensiveYN  \n",
              "0                  0     0.500000         0.000000  \n",
              "1               1000     0.333333         0.166667  \n",
              "2               1000     0.333333         0.166667  \n",
              "3                  0     0.000000         0.500000  \n",
              "4                  0     0.166667         0.333333  \n",
              "...              ...          ...              ...  \n",
              "35419              0     0.333333         0.166667  \n",
              "35420              1     0.000000         0.500000  \n",
              "35421              0     1.000000         0.500000  \n",
              "35422              1     0.333333         0.166667  \n",
              "35423              1     0.000000         0.500000  \n",
              "\n",
              "[35424 rows x 8 columns]"
            ],
            "text/html": [
              "\n",
              "  <div id=\"df-bbce0bd0-3ee0-4f09-aad5-c132b0c4eae3\">\n",
              "    <div class=\"colab-df-container\">\n",
              "      <div>\n",
              "<style scoped>\n",
              "    .dataframe tbody tr th:only-of-type {\n",
              "        vertical-align: middle;\n",
              "    }\n",
              "\n",
              "    .dataframe tbody tr th {\n",
              "        vertical-align: top;\n",
              "    }\n",
              "\n",
              "    .dataframe thead th {\n",
              "        text-align: right;\n",
              "    }\n",
              "</style>\n",
              "<table border=\"1\" class=\"dataframe\">\n",
              "  <thead>\n",
              "    <tr style=\"text-align: right;\">\n",
              "      <th></th>\n",
              "      <th>guid</th>\n",
              "      <th>threshold_closeness</th>\n",
              "      <th>confidence</th>\n",
              "      <th>variability</th>\n",
              "      <th>correctness</th>\n",
              "      <th>forgetfulness</th>\n",
              "      <th>offensiveYN</th>\n",
              "      <th>abs_offensiveYN</th>\n",
              "    </tr>\n",
              "  </thead>\n",
              "  <tbody>\n",
              "    <tr>\n",
              "      <th>0</th>\n",
              "      <td>22749</td>\n",
              "      <td>0.179411</td>\n",
              "      <td>0.765686</td>\n",
              "      <td>0.074966</td>\n",
              "      <td>4</td>\n",
              "      <td>0</td>\n",
              "      <td>0.500000</td>\n",
              "      <td>0.000000</td>\n",
              "    </tr>\n",
              "    <tr>\n",
              "      <th>1</th>\n",
              "      <td>12186</td>\n",
              "      <td>0.188648</td>\n",
              "      <td>0.252307</td>\n",
              "      <td>0.058964</td>\n",
              "      <td>0</td>\n",
              "      <td>1000</td>\n",
              "      <td>0.333333</td>\n",
              "      <td>0.166667</td>\n",
              "    </tr>\n",
              "    <tr>\n",
              "      <th>2</th>\n",
              "      <td>19868</td>\n",
              "      <td>0.202609</td>\n",
              "      <td>0.282305</td>\n",
              "      <td>0.060212</td>\n",
              "      <td>0</td>\n",
              "      <td>1000</td>\n",
              "      <td>0.333333</td>\n",
              "      <td>0.166667</td>\n",
              "    </tr>\n",
              "    <tr>\n",
              "      <th>3</th>\n",
              "      <td>30023</td>\n",
              "      <td>0.185901</td>\n",
              "      <td>0.753178</td>\n",
              "      <td>0.236622</td>\n",
              "      <td>3</td>\n",
              "      <td>0</td>\n",
              "      <td>0.000000</td>\n",
              "      <td>0.500000</td>\n",
              "    </tr>\n",
              "    <tr>\n",
              "      <th>4</th>\n",
              "      <td>33539</td>\n",
              "      <td>0.228693</td>\n",
              "      <td>0.645971</td>\n",
              "      <td>0.196670</td>\n",
              "      <td>3</td>\n",
              "      <td>0</td>\n",
              "      <td>0.166667</td>\n",
              "      <td>0.333333</td>\n",
              "    </tr>\n",
              "    <tr>\n",
              "      <th>...</th>\n",
              "      <td>...</td>\n",
              "      <td>...</td>\n",
              "      <td>...</td>\n",
              "      <td>...</td>\n",
              "      <td>...</td>\n",
              "      <td>...</td>\n",
              "      <td>...</td>\n",
              "      <td>...</td>\n",
              "    </tr>\n",
              "    <tr>\n",
              "      <th>35419</th>\n",
              "      <td>32637</td>\n",
              "      <td>0.241946</td>\n",
              "      <td>0.410256</td>\n",
              "      <td>0.160799</td>\n",
              "      <td>1</td>\n",
              "      <td>0</td>\n",
              "      <td>0.333333</td>\n",
              "      <td>0.166667</td>\n",
              "    </tr>\n",
              "    <tr>\n",
              "      <th>35420</th>\n",
              "      <td>21934</td>\n",
              "      <td>0.194674</td>\n",
              "      <td>0.735214</td>\n",
              "      <td>0.174907</td>\n",
              "      <td>3</td>\n",
              "      <td>1</td>\n",
              "      <td>0.000000</td>\n",
              "      <td>0.500000</td>\n",
              "    </tr>\n",
              "    <tr>\n",
              "      <th>35421</th>\n",
              "      <td>30634</td>\n",
              "      <td>0.111177</td>\n",
              "      <td>0.872589</td>\n",
              "      <td>0.030262</td>\n",
              "      <td>4</td>\n",
              "      <td>0</td>\n",
              "      <td>1.000000</td>\n",
              "      <td>0.500000</td>\n",
              "    </tr>\n",
              "    <tr>\n",
              "      <th>35422</th>\n",
              "      <td>5705</td>\n",
              "      <td>0.249376</td>\n",
              "      <td>0.524983</td>\n",
              "      <td>0.174246</td>\n",
              "      <td>3</td>\n",
              "      <td>1</td>\n",
              "      <td>0.333333</td>\n",
              "      <td>0.166667</td>\n",
              "    </tr>\n",
              "    <tr>\n",
              "      <th>35423</th>\n",
              "      <td>3410</td>\n",
              "      <td>0.244743</td>\n",
              "      <td>0.427494</td>\n",
              "      <td>0.207306</td>\n",
              "      <td>2</td>\n",
              "      <td>1</td>\n",
              "      <td>0.000000</td>\n",
              "      <td>0.500000</td>\n",
              "    </tr>\n",
              "  </tbody>\n",
              "</table>\n",
              "<p>35424 rows × 8 columns</p>\n",
              "</div>\n",
              "      <button class=\"colab-df-convert\" onclick=\"convertToInteractive('df-bbce0bd0-3ee0-4f09-aad5-c132b0c4eae3')\"\n",
              "              title=\"Convert this dataframe to an interactive table.\"\n",
              "              style=\"display:none;\">\n",
              "        \n",
              "  <svg xmlns=\"http://www.w3.org/2000/svg\" height=\"24px\"viewBox=\"0 0 24 24\"\n",
              "       width=\"24px\">\n",
              "    <path d=\"M0 0h24v24H0V0z\" fill=\"none\"/>\n",
              "    <path d=\"M18.56 5.44l.94 2.06.94-2.06 2.06-.94-2.06-.94-.94-2.06-.94 2.06-2.06.94zm-11 1L8.5 8.5l.94-2.06 2.06-.94-2.06-.94L8.5 2.5l-.94 2.06-2.06.94zm10 10l.94 2.06.94-2.06 2.06-.94-2.06-.94-.94-2.06-.94 2.06-2.06.94z\"/><path d=\"M17.41 7.96l-1.37-1.37c-.4-.4-.92-.59-1.43-.59-.52 0-1.04.2-1.43.59L10.3 9.45l-7.72 7.72c-.78.78-.78 2.05 0 2.83L4 21.41c.39.39.9.59 1.41.59.51 0 1.02-.2 1.41-.59l7.78-7.78 2.81-2.81c.8-.78.8-2.07 0-2.86zM5.41 20L4 18.59l7.72-7.72 1.47 1.35L5.41 20z\"/>\n",
              "  </svg>\n",
              "      </button>\n",
              "      \n",
              "  <style>\n",
              "    .colab-df-container {\n",
              "      display:flex;\n",
              "      flex-wrap:wrap;\n",
              "      gap: 12px;\n",
              "    }\n",
              "\n",
              "    .colab-df-convert {\n",
              "      background-color: #E8F0FE;\n",
              "      border: none;\n",
              "      border-radius: 50%;\n",
              "      cursor: pointer;\n",
              "      display: none;\n",
              "      fill: #1967D2;\n",
              "      height: 32px;\n",
              "      padding: 0 0 0 0;\n",
              "      width: 32px;\n",
              "    }\n",
              "\n",
              "    .colab-df-convert:hover {\n",
              "      background-color: #E2EBFA;\n",
              "      box-shadow: 0px 1px 2px rgba(60, 64, 67, 0.3), 0px 1px 3px 1px rgba(60, 64, 67, 0.15);\n",
              "      fill: #174EA6;\n",
              "    }\n",
              "\n",
              "    [theme=dark] .colab-df-convert {\n",
              "      background-color: #3B4455;\n",
              "      fill: #D2E3FC;\n",
              "    }\n",
              "\n",
              "    [theme=dark] .colab-df-convert:hover {\n",
              "      background-color: #434B5C;\n",
              "      box-shadow: 0px 1px 3px 1px rgba(0, 0, 0, 0.15);\n",
              "      filter: drop-shadow(0px 1px 2px rgba(0, 0, 0, 0.3));\n",
              "      fill: #FFFFFF;\n",
              "    }\n",
              "  </style>\n",
              "\n",
              "      <script>\n",
              "        const buttonEl =\n",
              "          document.querySelector('#df-bbce0bd0-3ee0-4f09-aad5-c132b0c4eae3 button.colab-df-convert');\n",
              "        buttonEl.style.display =\n",
              "          google.colab.kernel.accessAllowed ? 'block' : 'none';\n",
              "\n",
              "        async function convertToInteractive(key) {\n",
              "          const element = document.querySelector('#df-bbce0bd0-3ee0-4f09-aad5-c132b0c4eae3');\n",
              "          const dataTable =\n",
              "            await google.colab.kernel.invokeFunction('convertToInteractive',\n",
              "                                                     [key], {});\n",
              "          if (!dataTable) return;\n",
              "\n",
              "          const docLinkHtml = 'Like what you see? Visit the ' +\n",
              "            '<a target=\"_blank\" href=https://colab.research.google.com/notebooks/data_table.ipynb>data table notebook</a>'\n",
              "            + ' to learn more about interactive tables.';\n",
              "          element.innerHTML = '';\n",
              "          dataTable['output_type'] = 'display_data';\n",
              "          await google.colab.output.renderOutput(dataTable, element);\n",
              "          const docLink = document.createElement('div');\n",
              "          docLink.innerHTML = docLinkHtml;\n",
              "          element.appendChild(docLink);\n",
              "        }\n",
              "      </script>\n",
              "    </div>\n",
              "  </div>\n",
              "  "
            ]
          },
          "metadata": {},
          "execution_count": 178
        }
      ]
    },
    {
      "cell_type": "code",
      "source": [
        "fig = plt.figure(figsize=(8,5))\n",
        "sns.displot(x=train_dy_metrics_off[\"confidence\"])\n",
        "plt.figure()"
      ],
      "metadata": {
        "colab": {
          "base_uri": "https://localhost:8080/",
          "height": 562
        },
        "id": "yRDUo94Ni4nT",
        "outputId": "a5b477e0-1694-4048-dead-59f1cb3a3ac6"
      },
      "execution_count": null,
      "outputs": [
        {
          "output_type": "execute_result",
          "data": {
            "text/plain": [
              "<Figure size 640x480 with 0 Axes>"
            ]
          },
          "metadata": {},
          "execution_count": 196
        },
        {
          "output_type": "display_data",
          "data": {
            "text/plain": [
              "<Figure size 800x500 with 0 Axes>"
            ]
          },
          "metadata": {}
        },
        {
          "output_type": "display_data",
          "data": {
            "text/plain": [
              "<Figure size 500x500 with 1 Axes>"
            ],
            "image/png": "[encoded data removed]"
          },
          "metadata": {}
        },
        {
          "output_type": "display_data",
          "data": {
            "text/plain": [
              "<Figure size 640x480 with 0 Axes>"
            ]
          },
          "metadata": {}
        }
      ]
    },
    {
      "cell_type": "code",
      "source": [
        "fig = plt.figure(figsize=(8,5))\n",
        "sns.displot(x=train_dy_metrics_off[\"variability\"])\n",
        "plt.figure()"
      ],
      "metadata": {
        "colab": {
          "base_uri": "https://localhost:8080/",
          "height": 563
        },
        "id": "l-tJC-sHj83V",
        "outputId": "42ef92d3-8c06-4c67-9eeb-6ea4e24b1b26"
      },
      "execution_count": null,
      "outputs": [
        {
          "output_type": "execute_result",
          "data": {
            "text/plain": [
              "<Figure size 640x480 with 0 Axes>"
            ]
          },
          "metadata": {},
          "execution_count": 197
        },
        {
          "output_type": "display_data",
          "data": {
            "text/plain": [
              "<Figure size 800x500 with 0 Axes>"
            ]
          },
          "metadata": {}
        },
        {
          "output_type": "display_data",
          "data": {
            "text/plain": [
              "<Figure size 500x500 with 1 Axes>"
            ],
            "image/png": "[encoded data removed]"
          },
          "metadata": {}
        },
        {
          "output_type": "display_data",
          "data": {
            "text/plain": [
              "<Figure size 640x480 with 0 Axes>"
            ]
          },
          "metadata": {}
        }
      ]
    },
    {
      "cell_type": "code",
      "source": [
        "easy = train_dy_metrics_off.loc[train_dy_metrics_off[\"confidence\"] >= 0.6]\n",
        "not_easy = train_dy_metrics_off.loc[train_dy_metrics_off[\"confidence\"] <= 0.6]\n",
        "not_easy"
      ],
      "metadata": {
        "colab": {
          "base_uri": "https://localhost:8080/",
          "height": 423
        },
        "id": "LgUoM0HCkjki",
        "outputId": "a695676e-be35-464f-f477-ec3fb95196e5"
      },
      "execution_count": null,
      "outputs": [
        {
          "output_type": "execute_result",
          "data": {
            "text/plain": [
              "        guid  threshold_closeness  confidence  variability  correctness  \\\n",
              "1      12186             0.188648    0.252307     0.058964            0   \n",
              "2      19868             0.202609    0.282305     0.060212            0   \n",
              "6      12097             0.243569    0.580196     0.247540            2   \n",
              "8       1176             0.244801    0.427896     0.243892            2   \n",
              "10      3812             0.249008    0.531490     0.220804            2   \n",
              "...      ...                  ...         ...          ...          ...   \n",
              "35408   6761             0.118047    0.136747     0.012709            0   \n",
              "35414  18872             0.239041    0.395314     0.111774            1   \n",
              "35419  32637             0.241946    0.410256     0.160799            1   \n",
              "35422   5705             0.249376    0.524983     0.174246            3   \n",
              "35423   3410             0.244743    0.427494     0.207306            2   \n",
              "\n",
              "       forgetfulness  offensiveYN  abs_offensiveYN  \n",
              "1               1000     0.333333         0.166667  \n",
              "2               1000     0.333333         0.166667  \n",
              "6                  0     0.000000         0.500000  \n",
              "8                  2     0.500000         0.000000  \n",
              "10                 0     0.333333         0.166667  \n",
              "...              ...          ...              ...  \n",
              "35408           1000     0.000000         0.500000  \n",
              "35414              1     0.833333         0.333333  \n",
              "35419              0     0.333333         0.166667  \n",
              "35422              1     0.333333         0.166667  \n",
              "35423              1     0.000000         0.500000  \n",
              "\n",
              "[13631 rows x 8 columns]"
            ],
            "text/html": [
              "\n",
              "  <div id=\"df-70c0a340-7c9a-4187-9e39-49a60dce327f\">\n",
              "    <div class=\"colab-df-container\">\n",
              "      <div>\n",
              "<style scoped>\n",
              "    .dataframe tbody tr th:only-of-type {\n",
              "        vertical-align: middle;\n",
              "    }\n",
              "\n",
              "    .dataframe tbody tr th {\n",
              "        vertical-align: top;\n",
              "    }\n",
              "\n",
              "    .dataframe thead th {\n",
              "        text-align: right;\n",
              "    }\n",
              "</style>\n",
              "<table border=\"1\" class=\"dataframe\">\n",
              "  <thead>\n",
              "    <tr style=\"text-align: right;\">\n",
              "      <th></th>\n",
              "      <th>guid</th>\n",
              "      <th>threshold_closeness</th>\n",
              "      <th>confidence</th>\n",
              "      <th>variability</th>\n",
              "      <th>correctness</th>\n",
              "      <th>forgetfulness</th>\n",
              "      <th>offensiveYN</th>\n",
              "      <th>abs_offensiveYN</th>\n",
              "    </tr>\n",
              "  </thead>\n",
              "  <tbody>\n",
              "    <tr>\n",
              "      <th>1</th>\n",
              "      <td>12186</td>\n",
              "      <td>0.188648</td>\n",
              "      <td>0.252307</td>\n",
              "      <td>0.058964</td>\n",
              "      <td>0</td>\n",
              "      <td>1000</td>\n",
              "      <td>0.333333</td>\n",
              "      <td>0.166667</td>\n",
              "    </tr>\n",
              "    <tr>\n",
              "      <th>2</th>\n",
              "      <td>19868</td>\n",
              "      <td>0.202609</td>\n",
              "      <td>0.282305</td>\n",
              "      <td>0.060212</td>\n",
              "      <td>0</td>\n",
              "      <td>1000</td>\n",
              "      <td>0.333333</td>\n",
              "      <td>0.166667</td>\n",
              "    </tr>\n",
              "    <tr>\n",
              "      <th>6</th>\n",
              "      <td>12097</td>\n",
              "      <td>0.243569</td>\n",
              "      <td>0.580196</td>\n",
              "      <td>0.247540</td>\n",
              "      <td>2</td>\n",
              "      <td>0</td>\n",
              "      <td>0.000000</td>\n",
              "      <td>0.500000</td>\n",
              "    </tr>\n",
              "    <tr>\n",
              "      <th>8</th>\n",
              "      <td>1176</td>\n",
              "      <td>0.244801</td>\n",
              "      <td>0.427896</td>\n",
              "      <td>0.243892</td>\n",
              "      <td>2</td>\n",
              "      <td>2</td>\n",
              "      <td>0.500000</td>\n",
              "      <td>0.000000</td>\n",
              "    </tr>\n",
              "    <tr>\n",
              "      <th>10</th>\n",
              "      <td>3812</td>\n",
              "      <td>0.249008</td>\n",
              "      <td>0.531490</td>\n",
              "      <td>0.220804</td>\n",
              "      <td>2</td>\n",
              "      <td>0</td>\n",
              "      <td>0.333333</td>\n",
              "      <td>0.166667</td>\n",
              "    </tr>\n",
              "    <tr>\n",
              "      <th>...</th>\n",
              "      <td>...</td>\n",
              "      <td>...</td>\n",
              "      <td>...</td>\n",
              "      <td>...</td>\n",
              "      <td>...</td>\n",
              "      <td>...</td>\n",
              "      <td>...</td>\n",
              "      <td>...</td>\n",
              "    </tr>\n",
              "    <tr>\n",
              "      <th>35408</th>\n",
              "      <td>6761</td>\n",
              "      <td>0.118047</td>\n",
              "      <td>0.136747</td>\n",
              "      <td>0.012709</td>\n",
              "      <td>0</td>\n",
              "      <td>1000</td>\n",
              "      <td>0.000000</td>\n",
              "      <td>0.500000</td>\n",
              "    </tr>\n",
              "    <tr>\n",
              "      <th>35414</th>\n",
              "      <td>18872</td>\n",
              "      <td>0.239041</td>\n",
              "      <td>0.395314</td>\n",
              "      <td>0.111774</td>\n",
              "      <td>1</td>\n",
              "      <td>1</td>\n",
              "      <td>0.833333</td>\n",
              "      <td>0.333333</td>\n",
              "    </tr>\n",
              "    <tr>\n",
              "      <th>35419</th>\n",
              "      <td>32637</td>\n",
              "      <td>0.241946</td>\n",
              "      <td>0.410256</td>\n",
              "      <td>0.160799</td>\n",
              "      <td>1</td>\n",
              "      <td>0</td>\n",
              "      <td>0.333333</td>\n",
              "      <td>0.166667</td>\n",
              "    </tr>\n",
              "    <tr>\n",
              "      <th>35422</th>\n",
              "      <td>5705</td>\n",
              "      <td>0.249376</td>\n",
              "      <td>0.524983</td>\n",
              "      <td>0.174246</td>\n",
              "      <td>3</td>\n",
              "      <td>1</td>\n",
              "      <td>0.333333</td>\n",
              "      <td>0.166667</td>\n",
              "    </tr>\n",
              "    <tr>\n",
              "      <th>35423</th>\n",
              "      <td>3410</td>\n",
              "      <td>0.244743</td>\n",
              "      <td>0.427494</td>\n",
              "      <td>0.207306</td>\n",
              "      <td>2</td>\n",
              "      <td>1</td>\n",
              "      <td>0.000000</td>\n",
              "      <td>0.500000</td>\n",
              "    </tr>\n",
              "  </tbody>\n",
              "</table>\n",
              "<p>13631 rows × 8 columns</p>\n",
              "</div>\n",
              "      <button class=\"colab-df-convert\" onclick=\"convertToInteractive('df-70c0a340-7c9a-4187-9e39-49a60dce327f')\"\n",
              "              title=\"Convert this dataframe to an interactive table.\"\n",
              "              style=\"display:none;\">\n",
              "        \n",
              "  <svg xmlns=\"http://www.w3.org/2000/svg\" height=\"24px\"viewBox=\"0 0 24 24\"\n",
              "       width=\"24px\">\n",
              "    <path d=\"M0 0h24v24H0V0z\" fill=\"none\"/>\n",
              "    <path d=\"M18.56 5.44l.94 2.06.94-2.06 2.06-.94-2.06-.94-.94-2.06-.94 2.06-2.06.94zm-11 1L8.5 8.5l.94-2.06 2.06-.94-2.06-.94L8.5 2.5l-.94 2.06-2.06.94zm10 10l.94 2.06.94-2.06 2.06-.94-2.06-.94-.94-2.06-.94 2.06-2.06.94z\"/><path d=\"M17.41 7.96l-1.37-1.37c-.4-.4-.92-.59-1.43-.59-.52 0-1.04.2-1.43.59L10.3 9.45l-7.72 7.72c-.78.78-.78 2.05 0 2.83L4 21.41c.39.39.9.59 1.41.59.51 0 1.02-.2 1.41-.59l7.78-7.78 2.81-2.81c.8-.78.8-2.07 0-2.86zM5.41 20L4 18.59l7.72-7.72 1.47 1.35L5.41 20z\"/>\n",
              "  </svg>\n",
              "      </button>\n",
              "      \n",
              "  <style>\n",
              "    .colab-df-container {\n",
              "      display:flex;\n",
              "      flex-wrap:wrap;\n",
              "      gap: 12px;\n",
              "    }\n",
              "\n",
              "    .colab-df-convert {\n",
              "      background-color: #E8F0FE;\n",
              "      border: none;\n",
              "      border-radius: 50%;\n",
              "      cursor: pointer;\n",
              "      display: none;\n",
              "      fill: #1967D2;\n",
              "      height: 32px;\n",
              "      padding: 0 0 0 0;\n",
              "      width: 32px;\n",
              "    }\n",
              "\n",
              "    .colab-df-convert:hover {\n",
              "      background-color: #E2EBFA;\n",
              "      box-shadow: 0px 1px 2px rgba(60, 64, 67, 0.3), 0px 1px 3px 1px rgba(60, 64, 67, 0.15);\n",
              "      fill: #174EA6;\n",
              "    }\n",
              "\n",
              "    [theme=dark] .colab-df-convert {\n",
              "      background-color: #3B4455;\n",
              "      fill: #D2E3FC;\n",
              "    }\n",
              "\n",
              "    [theme=dark] .colab-df-convert:hover {\n",
              "      background-color: #434B5C;\n",
              "      box-shadow: 0px 1px 3px 1px rgba(0, 0, 0, 0.15);\n",
              "      filter: drop-shadow(0px 1px 2px rgba(0, 0, 0, 0.3));\n",
              "      fill: #FFFFFF;\n",
              "    }\n",
              "  </style>\n",
              "\n",
              "      <script>\n",
              "        const buttonEl =\n",
              "          document.querySelector('#df-70c0a340-7c9a-4187-9e39-49a60dce327f button.colab-df-convert');\n",
              "        buttonEl.style.display =\n",
              "          google.colab.kernel.accessAllowed ? 'block' : 'none';\n",
              "\n",
              "        async function convertToInteractive(key) {\n",
              "          const element = document.querySelector('#df-70c0a340-7c9a-4187-9e39-49a60dce327f');\n",
              "          const dataTable =\n",
              "            await google.colab.kernel.invokeFunction('convertToInteractive',\n",
              "                                                     [key], {});\n",
              "          if (!dataTable) return;\n",
              "\n",
              "          const docLinkHtml = 'Like what you see? Visit the ' +\n",
              "            '<a target=\"_blank\" href=https://colab.research.google.com/notebooks/data_table.ipynb>data table notebook</a>'\n",
              "            + ' to learn more about interactive tables.';\n",
              "          element.innerHTML = '';\n",
              "          dataTable['output_type'] = 'display_data';\n",
              "          await google.colab.output.renderOutput(dataTable, element);\n",
              "          const docLink = document.createElement('div');\n",
              "          docLink.innerHTML = docLinkHtml;\n",
              "          element.appendChild(docLink);\n",
              "        }\n",
              "      </script>\n",
              "    </div>\n",
              "  </div>\n",
              "  "
            ]
          },
          "metadata": {},
          "execution_count": 205
        }
      ]
    },
    {
      "cell_type": "code",
      "source": [
        "fig = plt.figure(figsize=(8,5))\n",
        "sns.displot(x=not_easy[\"variability\"])\n",
        "plt.figure()"
      ],
      "metadata": {
        "colab": {
          "base_uri": "https://localhost:8080/",
          "height": 562
        },
        "id": "YhtRf5izkjao",
        "outputId": "88f3e01c-ab6a-4caa-8162-a56971b7101b"
      },
      "execution_count": null,
      "outputs": [
        {
          "output_type": "execute_result",
          "data": {
            "text/plain": [
              "<Figure size 640x480 with 0 Axes>"
            ]
          },
          "metadata": {},
          "execution_count": 206
        },
        {
          "output_type": "display_data",
          "data": {
            "text/plain": [
              "<Figure size 800x500 with 0 Axes>"
            ]
          },
          "metadata": {}
        },
        {
          "output_type": "display_data",
          "data": {
            "text/plain": [
              "<Figure size 500x500 with 1 Axes>"
            ],
            "image/png": "[encoded data removed]"
          },
          "metadata": {}
        },
        {
          "output_type": "display_data",
          "data": {
            "text/plain": [
              "<Figure size 640x480 with 0 Axes>"
            ]
          },
          "metadata": {}
        }
      ]
    },
    {
      "cell_type": "code",
      "source": [],
      "metadata": {
        "id": "r3qohoJCkjRP"
      },
      "execution_count": null,
      "outputs": []
    },
    {
      "cell_type": "code",
      "source": [
        "train_dy_metrics_off.sort_values(by=\"confidence\", ascending=False)"
      ],
      "metadata": {
        "colab": {
          "base_uri": "https://localhost:8080/",
          "height": 423
        },
        "id": "RJKCHvh1iseB",
        "outputId": "420b153d-b693-4b49-a4c4-f015c13bc74a"
      },
      "execution_count": null,
      "outputs": [
        {
          "output_type": "execute_result",
          "data": {
            "text/plain": [
              "        guid  threshold_closeness  confidence  variability  correctness  \\\n",
              "25806  33359             0.058641    0.937446     0.030329            4   \n",
              "32188  24117             0.064282    0.930950     0.024372            4   \n",
              "31938  13448             0.064705    0.930459     0.034707            4   \n",
              "32965    703             0.064917    0.930213     0.022128            4   \n",
              "31167  17792             0.064922    0.930207     0.025687            4   \n",
              "...      ...                  ...         ...          ...          ...   \n",
              "31918  19367             0.082499    0.090731     0.020534            0   \n",
              "20654  24032             0.079367    0.086923     0.031909            0   \n",
              "28332  13261             0.077785    0.085012     0.036320            0   \n",
              "33885  35186             0.076892    0.083937     0.033345            0   \n",
              "18289   7513             0.076010    0.082878     0.055314            0   \n",
              "\n",
              "       forgetfulness  offensiveYN  abs_offensiveYN  \n",
              "25806              0     0.000000         0.500000  \n",
              "32188              0     0.000000         0.500000  \n",
              "31938              0     0.000000         0.500000  \n",
              "32965              0     0.666667         0.166667  \n",
              "31167              0     0.000000         0.500000  \n",
              "...              ...          ...              ...  \n",
              "31918           1000     0.166667         0.333333  \n",
              "20654           1000     0.000000         0.500000  \n",
              "28332           1000     0.666667         0.166667  \n",
              "33885           1000     0.500000         0.000000  \n",
              "18289           1000     1.000000         0.500000  \n",
              "\n",
              "[35424 rows x 8 columns]"
            ],
            "text/html": [
              "\n",
              "  <div id=\"df-1a37d12b-f7ed-435a-a352-456a6fabe53c\">\n",
              "    <div class=\"colab-df-container\">\n",
              "      <div>\n",
              "<style scoped>\n",
              "    .dataframe tbody tr th:only-of-type {\n",
              "        vertical-align: middle;\n",
              "    }\n",
              "\n",
              "    .dataframe tbody tr th {\n",
              "        vertical-align: top;\n",
              "    }\n",
              "\n",
              "    .dataframe thead th {\n",
              "        text-align: right;\n",
              "    }\n",
              "</style>\n",
              "<table border=\"1\" class=\"dataframe\">\n",
              "  <thead>\n",
              "    <tr style=\"text-align: right;\">\n",
              "      <th></th>\n",
              "      <th>guid</th>\n",
              "      <th>threshold_closeness</th>\n",
              "      <th>confidence</th>\n",
              "      <th>variability</th>\n",
              "      <th>correctness</th>\n",
              "      <th>forgetfulness</th>\n",
              "      <th>offensiveYN</th>\n",
              "      <th>abs_offensiveYN</th>\n",
              "    </tr>\n",
              "  </thead>\n",
              "  <tbody>\n",
              "    <tr>\n",
              "      <th>25806</th>\n",
              "      <td>33359</td>\n",
              "      <td>0.058641</td>\n",
              "      <td>0.937446</td>\n",
              "      <td>0.030329</td>\n",
              "      <td>4</td>\n",
              "      <td>0</td>\n",
              "      <td>0.000000</td>\n",
              "      <td>0.500000</td>\n",
              "    </tr>\n",
              "    <tr>\n",
              "      <th>32188</th>\n",
              "      <td>24117</td>\n",
              "      <td>0.064282</td>\n",
              "      <td>0.930950</td>\n",
              "      <td>0.024372</td>\n",
              "      <td>4</td>\n",
              "      <td>0</td>\n",
              "      <td>0.000000</td>\n",
              "      <td>0.500000</td>\n",
              "    </tr>\n",
              "    <tr>\n",
              "      <th>31938</th>\n",
              "      <td>13448</td>\n",
              "      <td>0.064705</td>\n",
              "      <td>0.930459</td>\n",
              "      <td>0.034707</td>\n",
              "      <td>4</td>\n",
              "      <td>0</td>\n",
              "      <td>0.000000</td>\n",
              "      <td>0.500000</td>\n",
              "    </tr>\n",
              "    <tr>\n",
              "      <th>32965</th>\n",
              "      <td>703</td>\n",
              "      <td>0.064917</td>\n",
              "      <td>0.930213</td>\n",
              "      <td>0.022128</td>\n",
              "      <td>4</td>\n",
              "      <td>0</td>\n",
              "      <td>0.666667</td>\n",
              "      <td>0.166667</td>\n",
              "    </tr>\n",
              "    <tr>\n",
              "      <th>31167</th>\n",
              "      <td>17792</td>\n",
              "      <td>0.064922</td>\n",
              "      <td>0.930207</td>\n",
              "      <td>0.025687</td>\n",
              "      <td>4</td>\n",
              "      <td>0</td>\n",
              "      <td>0.000000</td>\n",
              "      <td>0.500000</td>\n",
              "    </tr>\n",
              "    <tr>\n",
              "      <th>...</th>\n",
              "      <td>...</td>\n",
              "      <td>...</td>\n",
              "      <td>...</td>\n",
              "      <td>...</td>\n",
              "      <td>...</td>\n",
              "      <td>...</td>\n",
              "      <td>...</td>\n",
              "      <td>...</td>\n",
              "    </tr>\n",
              "    <tr>\n",
              "      <th>31918</th>\n",
              "      <td>19367</td>\n",
              "      <td>0.082499</td>\n",
              "      <td>0.090731</td>\n",
              "      <td>0.020534</td>\n",
              "      <td>0</td>\n",
              "      <td>1000</td>\n",
              "      <td>0.166667</td>\n",
              "      <td>0.333333</td>\n",
              "    </tr>\n",
              "    <tr>\n",
              "      <th>20654</th>\n",
              "      <td>24032</td>\n",
              "      <td>0.079367</td>\n",
              "      <td>0.086923</td>\n",
              "      <td>0.031909</td>\n",
              "      <td>0</td>\n",
              "      <td>1000</td>\n",
              "      <td>0.000000</td>\n",
              "      <td>0.500000</td>\n",
              "    </tr>\n",
              "    <tr>\n",
              "      <th>28332</th>\n",
              "      <td>13261</td>\n",
              "      <td>0.077785</td>\n",
              "      <td>0.085012</td>\n",
              "      <td>0.036320</td>\n",
              "      <td>0</td>\n",
              "      <td>1000</td>\n",
              "      <td>0.666667</td>\n",
              "      <td>0.166667</td>\n",
              "    </tr>\n",
              "    <tr>\n",
              "      <th>33885</th>\n",
              "      <td>35186</td>\n",
              "      <td>0.076892</td>\n",
              "      <td>0.083937</td>\n",
              "      <td>0.033345</td>\n",
              "      <td>0</td>\n",
              "      <td>1000</td>\n",
              "      <td>0.500000</td>\n",
              "      <td>0.000000</td>\n",
              "    </tr>\n",
              "    <tr>\n",
              "      <th>18289</th>\n",
              "      <td>7513</td>\n",
              "      <td>0.076010</td>\n",
              "      <td>0.082878</td>\n",
              "      <td>0.055314</td>\n",
              "      <td>0</td>\n",
              "      <td>1000</td>\n",
              "      <td>1.000000</td>\n",
              "      <td>0.500000</td>\n",
              "    </tr>\n",
              "  </tbody>\n",
              "</table>\n",
              "<p>35424 rows × 8 columns</p>\n",
              "</div>\n",
              "      <button class=\"colab-df-convert\" onclick=\"convertToInteractive('df-1a37d12b-f7ed-435a-a352-456a6fabe53c')\"\n",
              "              title=\"Convert this dataframe to an interactive table.\"\n",
              "              style=\"display:none;\">\n",
              "        \n",
              "  <svg xmlns=\"http://www.w3.org/2000/svg\" height=\"24px\"viewBox=\"0 0 24 24\"\n",
              "       width=\"24px\">\n",
              "    <path d=\"M0 0h24v24H0V0z\" fill=\"none\"/>\n",
              "    <path d=\"M18.56 5.44l.94 2.06.94-2.06 2.06-.94-2.06-.94-.94-2.06-.94 2.06-2.06.94zm-11 1L8.5 8.5l.94-2.06 2.06-.94-2.06-.94L8.5 2.5l-.94 2.06-2.06.94zm10 10l.94 2.06.94-2.06 2.06-.94-2.06-.94-.94-2.06-.94 2.06-2.06.94z\"/><path d=\"M17.41 7.96l-1.37-1.37c-.4-.4-.92-.59-1.43-.59-.52 0-1.04.2-1.43.59L10.3 9.45l-7.72 7.72c-.78.78-.78 2.05 0 2.83L4 21.41c.39.39.9.59 1.41.59.51 0 1.02-.2 1.41-.59l7.78-7.78 2.81-2.81c.8-.78.8-2.07 0-2.86zM5.41 20L4 18.59l7.72-7.72 1.47 1.35L5.41 20z\"/>\n",
              "  </svg>\n",
              "      </button>\n",
              "      \n",
              "  <style>\n",
              "    .colab-df-container {\n",
              "      display:flex;\n",
              "      flex-wrap:wrap;\n",
              "      gap: 12px;\n",
              "    }\n",
              "\n",
              "    .colab-df-convert {\n",
              "      background-color: #E8F0FE;\n",
              "      border: none;\n",
              "      border-radius: 50%;\n",
              "      cursor: pointer;\n",
              "      display: none;\n",
              "      fill: #1967D2;\n",
              "      height: 32px;\n",
              "      padding: 0 0 0 0;\n",
              "      width: 32px;\n",
              "    }\n",
              "\n",
              "    .colab-df-convert:hover {\n",
              "      background-color: #E2EBFA;\n",
              "      box-shadow: 0px 1px 2px rgba(60, 64, 67, 0.3), 0px 1px 3px 1px rgba(60, 64, 67, 0.15);\n",
              "      fill: #174EA6;\n",
              "    }\n",
              "\n",
              "    [theme=dark] .colab-df-convert {\n",
              "      background-color: #3B4455;\n",
              "      fill: #D2E3FC;\n",
              "    }\n",
              "\n",
              "    [theme=dark] .colab-df-convert:hover {\n",
              "      background-color: #434B5C;\n",
              "      box-shadow: 0px 1px 3px 1px rgba(0, 0, 0, 0.15);\n",
              "      filter: drop-shadow(0px 1px 2px rgba(0, 0, 0, 0.3));\n",
              "      fill: #FFFFFF;\n",
              "    }\n",
              "  </style>\n",
              "\n",
              "      <script>\n",
              "        const buttonEl =\n",
              "          document.querySelector('#df-1a37d12b-f7ed-435a-a352-456a6fabe53c button.colab-df-convert');\n",
              "        buttonEl.style.display =\n",
              "          google.colab.kernel.accessAllowed ? 'block' : 'none';\n",
              "\n",
              "        async function convertToInteractive(key) {\n",
              "          const element = document.querySelector('#df-1a37d12b-f7ed-435a-a352-456a6fabe53c');\n",
              "          const dataTable =\n",
              "            await google.colab.kernel.invokeFunction('convertToInteractive',\n",
              "                                                     [key], {});\n",
              "          if (!dataTable) return;\n",
              "\n",
              "          const docLinkHtml = 'Like what you see? Visit the ' +\n",
              "            '<a target=\"_blank\" href=https://colab.research.google.com/notebooks/data_table.ipynb>data table notebook</a>'\n",
              "            + ' to learn more about interactive tables.';\n",
              "          element.innerHTML = '';\n",
              "          dataTable['output_type'] = 'display_data';\n",
              "          await google.colab.output.renderOutput(dataTable, element);\n",
              "          const docLink = document.createElement('div');\n",
              "          docLink.innerHTML = docLinkHtml;\n",
              "          element.appendChild(docLink);\n",
              "        }\n",
              "      </script>\n",
              "    </div>\n",
              "  </div>\n",
              "  "
            ]
          },
          "metadata": {},
          "execution_count": 193
        }
      ]
    },
    {
      "cell_type": "code",
      "source": [],
      "metadata": {
        "id": "gXs7W-83isX6"
      },
      "execution_count": null,
      "outputs": []
    },
    {
      "cell_type": "code",
      "source": [],
      "metadata": {
        "id": "qf25LZq1isR8"
      },
      "execution_count": null,
      "outputs": []
    },
    {
      "cell_type": "code",
      "source": [
        "n_samples = int(len(train_dy_metrics)/3)\n",
        "\n",
        "easy = train_dy_metrics_off.sort_values(by=[\"confidence\"],ascending=False)[:n_samples].copy()\n",
        "not_easy = train_dy_metrics_off.sort_values(by=[\"confidence\"],ascending=False)[n_samples:].copy()\n",
        "ambiguous = not_easy.sort_values(by=[\"variability\"],ascending=False)[:n_samples].copy()\n",
        "hard = not_easy.sort_values(by=[\"variability\"],ascending=False)[n_samples:].copy()"
      ],
      "metadata": {
        "id": "EKLTQHlAW2hF"
      },
      "execution_count": null,
      "outputs": []
    },
    {
      "cell_type": "code",
      "source": [
        "print(\"Average agreement of easy : {:0.2f} , variance {:0.2f}\".format(easy[\"abs_offensiveYN\"].mean(), easy[\"abs_offensiveYN\"].var()))\n",
        "print(\"Average agreement of ambiguous : {:0.2f} , variance {:0.2f}\".format(ambiguous[\"abs_offensiveYN\"].mean(), ambiguous[\"abs_offensiveYN\"].var()))\n",
        "print(\"Average agreement of hard : {:0.2f} , variance {:0.2f}\".format(hard[\"abs_offensiveYN\"].mean(), hard[\"abs_offensiveYN\"].var()))"
      ],
      "metadata": {
        "colab": {
          "base_uri": "https://localhost:8080/"
        },
        "id": "CWSle5IaW3dK",
        "outputId": "554a9d0e-3eab-4f45-b041-822b30541ead"
      },
      "execution_count": null,
      "outputs": [
        {
          "output_type": "stream",
          "name": "stdout",
          "text": [
            "Average agreement of easy : 0.44 , variance 0.02\n",
            "Average agreement of ambiguous : 0.39 , variance 0.03\n",
            "Average agreement of hard : 0.37 , variance 0.03\n"
          ]
        }
      ]
    },
    {
      "cell_type": "code",
      "source": [
        "temp[\"abs_offensiveYN\"].values == easy[\"abs_offensiveYN\"].values"
      ],
      "metadata": {
        "colab": {
          "base_uri": "https://localhost:8080/"
        },
        "id": "UhosMQ6RgM_7",
        "outputId": "38614067-0187-40c2-a074-e8b7ec2e8f5b"
      },
      "execution_count": null,
      "outputs": [
        {
          "output_type": "execute_result",
          "data": {
            "text/plain": [
              "array([ True,  True,  True, ...,  True,  True,  True])"
            ]
          },
          "metadata": {},
          "execution_count": 184
        }
      ]
    },
    {
      "cell_type": "code",
      "source": [
        "fig = plt.figure(figsize=(8,5))\n",
        "plt.scatter(x=easy[\"abs_offensiveYN\"], y=easy[\"confidence\"])\n",
        "plt.figure()"
      ],
      "metadata": {
        "colab": {
          "base_uri": "https://localhost:8080/",
          "height": 483
        },
        "id": "rCW_Sky8hv41",
        "outputId": "1924399d-111f-4332-e217-f29001faa130"
      },
      "execution_count": null,
      "outputs": [
        {
          "output_type": "execute_result",
          "data": {
            "text/plain": [
              "<Figure size 640x480 with 0 Axes>"
            ]
          },
          "metadata": {},
          "execution_count": 207
        },
        {
          "output_type": "display_data",
          "data": {
            "text/plain": [
              "<Figure size 800x500 with 1 Axes>"
            ],
            "image/png": "[encoded data removed]"
          },
          "metadata": {}
        },
        {
          "output_type": "display_data",
          "data": {
            "text/plain": [
              "<Figure size 640x480 with 0 Axes>"
            ]
          },
          "metadata": {}
        }
      ]
    },
    {
      "cell_type": "code",
      "source": [
        "fig = plt.figure(figsize=(8,5))\n",
        "gs = fig.add_gridspec(3, 2, width_ratios=[5, 1])\n",
        "sns.displot(x=easy[\"abs_offensiveYN\"])\n",
        "sns.displot(x=ambiguous[\"abs_offensiveYN\"])\n",
        "sns.displot(x=hard[\"abs_offensiveYN\"])\n",
        "plt.figure()"
      ],
      "metadata": {
        "colab": {
          "base_uri": "https://localhost:8080/",
          "height": 1000
        },
        "id": "fJetA8jJXTsO",
        "outputId": "7b00a96c-7a1b-4cec-bc89-5a1fd7bd4c89"
      },
      "execution_count": null,
      "outputs": [
        {
          "output_type": "execute_result",
          "data": {
            "text/plain": [
              "<Figure size 640x480 with 0 Axes>"
            ]
          },
          "metadata": {},
          "execution_count": 189
        },
        {
          "output_type": "display_data",
          "data": {
            "text/plain": [
              "<Figure size 800x500 with 0 Axes>"
            ]
          },
          "metadata": {}
        },
        {
          "output_type": "display_data",
          "data": {
            "text/plain": [
              "<Figure size 500x500 with 1 Axes>"
            ],
            "image/png": "[encoded data removed]"
          },
          "metadata": {}
        },
        {
          "output_type": "display_data",
          "data": {
            "text/plain": [
              "<Figure size 500x500 with 1 Axes>"
            ],
            "image/png": "[encoded data removed]"
          },
          "metadata": {}
        },
        {
          "output_type": "display_data",
          "data": {
            "text/plain": [
              "<Figure size 500x500 with 1 Axes>"
            ],
            "image/png": "[encoded data removed]"
          },
          "metadata": {}
        },
        {
          "output_type": "display_data",
          "data": {
            "text/plain": [
              "<Figure size 640x480 with 0 Axes>"
            ]
          },
          "metadata": {}
        }
      ]
    }
  ]
}